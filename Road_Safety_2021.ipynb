{
  "nbformat": 4,
  "nbformat_minor": 0,
  "metadata": {
    "colab": {
      "provenance": []
    },
    "kernelspec": {
      "name": "python3",
      "display_name": "Python 3"
    },
    "language_info": {
      "name": "python"
    }
  },
  "cells": [
    {
      "cell_type": "code",
      "execution_count": 1,
      "metadata": {
        "id": "eSo6kP2VBJJb"
      },
      "outputs": [],
      "source": [
        "#Import Dependicies\n",
        "import pandas as pd\n",
        "import tensorflow as tf\n",
        "import numpy as np\n",
        "from sklearn.model_selection import train_test_split\n",
        "from sklearn.preprocessing import StandardScaler\n",
        "from glob import glob"
      ]
    },
    {
      "cell_type": "code",
      "source": [
        "#Define Resourse path\n",
        "url=\"/content/2021_DATA_SA_Crash.csv\""
      ],
      "metadata": {
        "id": "g5840OKMBLuI"
      },
      "execution_count": 2,
      "outputs": []
    },
    {
      "cell_type": "code",
      "source": [
        "# Import and read the charity_data.csv.\n",
        "crash_df = pd.read_csv(url)\n"
      ],
      "metadata": {
        "id": "5iP-UjL3BLx-"
      },
      "execution_count": 5,
      "outputs": []
    },
    {
      "cell_type": "code",
      "source": [
        "crash_df = crash_df.fillna(0)\n",
        "crash_df.head()"
      ],
      "metadata": {
        "colab": {
          "base_uri": "https://localhost:8080/",
          "height": 421
        },
        "id": "onXB9dkXBL09",
        "outputId": "afdcc3d1-d2b5-4ff8-e169-7526af532060"
      },
      "execution_count": 6,
      "outputs": [
        {
          "output_type": "execute_result",
          "data": {
            "text/plain": [
              "          REPORT_ID      Stats Area             Suburb  Postcode  \\\n",
              "0  2021-1-6/07/2022  2 Metropolitan           VIRGINIA      5120   \n",
              "1  2021-2-6/07/2022  2 Metropolitan       MELROSE PARK      5039   \n",
              "2  2021-3-6/07/2022  2 Metropolitan     SEMAPHORE PARK      5019   \n",
              "3  2021-4-6/07/2022  2 Metropolitan             MARDEN      5070   \n",
              "4  2021-5-6/07/2022  2 Metropolitan  PARAFIELD GARDENS      5107   \n",
              "\n",
              "                             LGA Name  Total Units  Total Cas  Total Fats  \\\n",
              "0                   CITY OF PLAYFORD.            2          0           0   \n",
              "1      CC MITCHAM.                               2          1           1   \n",
              "2               CITY OF CHARLES STURT            2          0           0   \n",
              "3  CC OF NORWOOD,PAYNEHAM & ST PETERS            2          0           0   \n",
              "4                   CITY OF SALISBURY            2          0           0   \n",
              "\n",
              "   Total SI  Total MI  ...        Crash Type Unit Resp   Entity Code  \\\n",
              "0         0         0  ...        Side Swipe         2  Driver Rider   \n",
              "1         0         0  ...    Hit Pedestrian         2    Pedestrian   \n",
              "2         0         0  ...  Hit Fixed Object         1  Driver Rider   \n",
              "3         0         0  ...  Hit Fixed Object         1  Driver Rider   \n",
              "4         0         0  ...  Hit Fixed Object         1  Driver Rider   \n",
              "\n",
              "  CSEF Severity  Traffic Ctrls DUI Involved Drugs Involved    ACCLOC_X  \\\n",
              "0        1: PDO     No Control            0              0  1326227.35   \n",
              "1      4: Fatal     No Control            0              0  1325945.79   \n",
              "2        1: PDO     Roundabout            0              0  1317767.25   \n",
              "3        1: PDO     No Control            Y              0  1332264.42   \n",
              "4        1: PDO     No Control            0              0  1329432.20   \n",
              "\n",
              "     ACCLOC_Y    UNIQUE_LOC  \n",
              "0  1696803.21  1.326227e+13  \n",
              "1  1664421.93  1.325946e+13  \n",
              "2  1679377.81  1.317767e+13  \n",
              "3  1673848.29  1.332264e+13  \n",
              "4  1688030.50  1.329432e+13  \n",
              "\n",
              "[5 rows x 33 columns]"
            ],
            "text/html": [
              "\n",
              "  <div id=\"df-0941caa6-51c4-4723-a587-43e3b136f987\">\n",
              "    <div class=\"colab-df-container\">\n",
              "      <div>\n",
              "<style scoped>\n",
              "    .dataframe tbody tr th:only-of-type {\n",
              "        vertical-align: middle;\n",
              "    }\n",
              "\n",
              "    .dataframe tbody tr th {\n",
              "        vertical-align: top;\n",
              "    }\n",
              "\n",
              "    .dataframe thead th {\n",
              "        text-align: right;\n",
              "    }\n",
              "</style>\n",
              "<table border=\"1\" class=\"dataframe\">\n",
              "  <thead>\n",
              "    <tr style=\"text-align: right;\">\n",
              "      <th></th>\n",
              "      <th>REPORT_ID</th>\n",
              "      <th>Stats Area</th>\n",
              "      <th>Suburb</th>\n",
              "      <th>Postcode</th>\n",
              "      <th>LGA Name</th>\n",
              "      <th>Total Units</th>\n",
              "      <th>Total Cas</th>\n",
              "      <th>Total Fats</th>\n",
              "      <th>Total SI</th>\n",
              "      <th>Total MI</th>\n",
              "      <th>...</th>\n",
              "      <th>Crash Type</th>\n",
              "      <th>Unit Resp</th>\n",
              "      <th>Entity Code</th>\n",
              "      <th>CSEF Severity</th>\n",
              "      <th>Traffic Ctrls</th>\n",
              "      <th>DUI Involved</th>\n",
              "      <th>Drugs Involved</th>\n",
              "      <th>ACCLOC_X</th>\n",
              "      <th>ACCLOC_Y</th>\n",
              "      <th>UNIQUE_LOC</th>\n",
              "    </tr>\n",
              "  </thead>\n",
              "  <tbody>\n",
              "    <tr>\n",
              "      <th>0</th>\n",
              "      <td>2021-1-6/07/2022</td>\n",
              "      <td>2 Metropolitan</td>\n",
              "      <td>VIRGINIA</td>\n",
              "      <td>5120</td>\n",
              "      <td>CITY OF PLAYFORD.</td>\n",
              "      <td>2</td>\n",
              "      <td>0</td>\n",
              "      <td>0</td>\n",
              "      <td>0</td>\n",
              "      <td>0</td>\n",
              "      <td>...</td>\n",
              "      <td>Side Swipe</td>\n",
              "      <td>2</td>\n",
              "      <td>Driver Rider</td>\n",
              "      <td>1: PDO</td>\n",
              "      <td>No Control</td>\n",
              "      <td>0</td>\n",
              "      <td>0</td>\n",
              "      <td>1326227.35</td>\n",
              "      <td>1696803.21</td>\n",
              "      <td>1.326227e+13</td>\n",
              "    </tr>\n",
              "    <tr>\n",
              "      <th>1</th>\n",
              "      <td>2021-2-6/07/2022</td>\n",
              "      <td>2 Metropolitan</td>\n",
              "      <td>MELROSE PARK</td>\n",
              "      <td>5039</td>\n",
              "      <td>CC MITCHAM.</td>\n",
              "      <td>2</td>\n",
              "      <td>1</td>\n",
              "      <td>1</td>\n",
              "      <td>0</td>\n",
              "      <td>0</td>\n",
              "      <td>...</td>\n",
              "      <td>Hit Pedestrian</td>\n",
              "      <td>2</td>\n",
              "      <td>Pedestrian</td>\n",
              "      <td>4: Fatal</td>\n",
              "      <td>No Control</td>\n",
              "      <td>0</td>\n",
              "      <td>0</td>\n",
              "      <td>1325945.79</td>\n",
              "      <td>1664421.93</td>\n",
              "      <td>1.325946e+13</td>\n",
              "    </tr>\n",
              "    <tr>\n",
              "      <th>2</th>\n",
              "      <td>2021-3-6/07/2022</td>\n",
              "      <td>2 Metropolitan</td>\n",
              "      <td>SEMAPHORE PARK</td>\n",
              "      <td>5019</td>\n",
              "      <td>CITY OF CHARLES STURT</td>\n",
              "      <td>2</td>\n",
              "      <td>0</td>\n",
              "      <td>0</td>\n",
              "      <td>0</td>\n",
              "      <td>0</td>\n",
              "      <td>...</td>\n",
              "      <td>Hit Fixed Object</td>\n",
              "      <td>1</td>\n",
              "      <td>Driver Rider</td>\n",
              "      <td>1: PDO</td>\n",
              "      <td>Roundabout</td>\n",
              "      <td>0</td>\n",
              "      <td>0</td>\n",
              "      <td>1317767.25</td>\n",
              "      <td>1679377.81</td>\n",
              "      <td>1.317767e+13</td>\n",
              "    </tr>\n",
              "    <tr>\n",
              "      <th>3</th>\n",
              "      <td>2021-4-6/07/2022</td>\n",
              "      <td>2 Metropolitan</td>\n",
              "      <td>MARDEN</td>\n",
              "      <td>5070</td>\n",
              "      <td>CC OF NORWOOD,PAYNEHAM &amp; ST PETERS</td>\n",
              "      <td>2</td>\n",
              "      <td>0</td>\n",
              "      <td>0</td>\n",
              "      <td>0</td>\n",
              "      <td>0</td>\n",
              "      <td>...</td>\n",
              "      <td>Hit Fixed Object</td>\n",
              "      <td>1</td>\n",
              "      <td>Driver Rider</td>\n",
              "      <td>1: PDO</td>\n",
              "      <td>No Control</td>\n",
              "      <td>Y</td>\n",
              "      <td>0</td>\n",
              "      <td>1332264.42</td>\n",
              "      <td>1673848.29</td>\n",
              "      <td>1.332264e+13</td>\n",
              "    </tr>\n",
              "    <tr>\n",
              "      <th>4</th>\n",
              "      <td>2021-5-6/07/2022</td>\n",
              "      <td>2 Metropolitan</td>\n",
              "      <td>PARAFIELD GARDENS</td>\n",
              "      <td>5107</td>\n",
              "      <td>CITY OF SALISBURY</td>\n",
              "      <td>2</td>\n",
              "      <td>0</td>\n",
              "      <td>0</td>\n",
              "      <td>0</td>\n",
              "      <td>0</td>\n",
              "      <td>...</td>\n",
              "      <td>Hit Fixed Object</td>\n",
              "      <td>1</td>\n",
              "      <td>Driver Rider</td>\n",
              "      <td>1: PDO</td>\n",
              "      <td>No Control</td>\n",
              "      <td>0</td>\n",
              "      <td>0</td>\n",
              "      <td>1329432.20</td>\n",
              "      <td>1688030.50</td>\n",
              "      <td>1.329432e+13</td>\n",
              "    </tr>\n",
              "  </tbody>\n",
              "</table>\n",
              "<p>5 rows × 33 columns</p>\n",
              "</div>\n",
              "      <button class=\"colab-df-convert\" onclick=\"convertToInteractive('df-0941caa6-51c4-4723-a587-43e3b136f987')\"\n",
              "              title=\"Convert this dataframe to an interactive table.\"\n",
              "              style=\"display:none;\">\n",
              "        \n",
              "  <svg xmlns=\"http://www.w3.org/2000/svg\" height=\"24px\"viewBox=\"0 0 24 24\"\n",
              "       width=\"24px\">\n",
              "    <path d=\"M0 0h24v24H0V0z\" fill=\"none\"/>\n",
              "    <path d=\"M18.56 5.44l.94 2.06.94-2.06 2.06-.94-2.06-.94-.94-2.06-.94 2.06-2.06.94zm-11 1L8.5 8.5l.94-2.06 2.06-.94-2.06-.94L8.5 2.5l-.94 2.06-2.06.94zm10 10l.94 2.06.94-2.06 2.06-.94-2.06-.94-.94-2.06-.94 2.06-2.06.94z\"/><path d=\"M17.41 7.96l-1.37-1.37c-.4-.4-.92-.59-1.43-.59-.52 0-1.04.2-1.43.59L10.3 9.45l-7.72 7.72c-.78.78-.78 2.05 0 2.83L4 21.41c.39.39.9.59 1.41.59.51 0 1.02-.2 1.41-.59l7.78-7.78 2.81-2.81c.8-.78.8-2.07 0-2.86zM5.41 20L4 18.59l7.72-7.72 1.47 1.35L5.41 20z\"/>\n",
              "  </svg>\n",
              "      </button>\n",
              "      \n",
              "  <style>\n",
              "    .colab-df-container {\n",
              "      display:flex;\n",
              "      flex-wrap:wrap;\n",
              "      gap: 12px;\n",
              "    }\n",
              "\n",
              "    .colab-df-convert {\n",
              "      background-color: #E8F0FE;\n",
              "      border: none;\n",
              "      border-radius: 50%;\n",
              "      cursor: pointer;\n",
              "      display: none;\n",
              "      fill: #1967D2;\n",
              "      height: 32px;\n",
              "      padding: 0 0 0 0;\n",
              "      width: 32px;\n",
              "    }\n",
              "\n",
              "    .colab-df-convert:hover {\n",
              "      background-color: #E2EBFA;\n",
              "      box-shadow: 0px 1px 2px rgba(60, 64, 67, 0.3), 0px 1px 3px 1px rgba(60, 64, 67, 0.15);\n",
              "      fill: #174EA6;\n",
              "    }\n",
              "\n",
              "    [theme=dark] .colab-df-convert {\n",
              "      background-color: #3B4455;\n",
              "      fill: #D2E3FC;\n",
              "    }\n",
              "\n",
              "    [theme=dark] .colab-df-convert:hover {\n",
              "      background-color: #434B5C;\n",
              "      box-shadow: 0px 1px 3px 1px rgba(0, 0, 0, 0.15);\n",
              "      filter: drop-shadow(0px 1px 2px rgba(0, 0, 0, 0.3));\n",
              "      fill: #FFFFFF;\n",
              "    }\n",
              "  </style>\n",
              "\n",
              "      <script>\n",
              "        const buttonEl =\n",
              "          document.querySelector('#df-0941caa6-51c4-4723-a587-43e3b136f987 button.colab-df-convert');\n",
              "        buttonEl.style.display =\n",
              "          google.colab.kernel.accessAllowed ? 'block' : 'none';\n",
              "\n",
              "        async function convertToInteractive(key) {\n",
              "          const element = document.querySelector('#df-0941caa6-51c4-4723-a587-43e3b136f987');\n",
              "          const dataTable =\n",
              "            await google.colab.kernel.invokeFunction('convertToInteractive',\n",
              "                                                     [key], {});\n",
              "          if (!dataTable) return;\n",
              "\n",
              "          const docLinkHtml = 'Like what you see? Visit the ' +\n",
              "            '<a target=\"_blank\" href=https://colab.research.google.com/notebooks/data_table.ipynb>data table notebook</a>'\n",
              "            + ' to learn more about interactive tables.';\n",
              "          element.innerHTML = '';\n",
              "          dataTable['output_type'] = 'display_data';\n",
              "          await google.colab.output.renderOutput(dataTable, element);\n",
              "          const docLink = document.createElement('div');\n",
              "          docLink.innerHTML = docLinkHtml;\n",
              "          element.appendChild(docLink);\n",
              "        }\n",
              "      </script>\n",
              "    </div>\n",
              "  </div>\n",
              "  "
            ]
          },
          "metadata": {},
          "execution_count": 6
        }
      ]
    },
    {
      "cell_type": "code",
      "source": [
        "#Cleaned dataframe with unwanted columns removed\n",
        "crash_df_filtered_1 = crash_df[['Stats Area', 'Month', 'Day', 'Time', 'Area Speed', 'Position Type',\n",
        "       'Horizontal Align', 'Vertical Align', 'Other Feat', 'Road Surface',\n",
        "       'Moisture Cond', 'Weather Cond', 'DayNight', 'Crash Type', 'Unit Resp',\n",
        "       'Entity Code', 'CSEF Severity', 'Traffic Ctrls', 'DUI Involved',\n",
        "       'Drugs Involved']]"
      ],
      "metadata": {
        "id": "z8ynLlKNBL32"
      },
      "execution_count": 7,
      "outputs": []
    },
    {
      "cell_type": "code",
      "source": [
        "#Finding the number of unique values in Target Column\n",
        "crash_df_filtered_1['CSEF Severity'].unique()"
      ],
      "metadata": {
        "colab": {
          "base_uri": "https://localhost:8080/"
        },
        "id": "OO_6095GBL6t",
        "outputId": "b166953a-543b-4835-9e69-fbd88fc6cb3c"
      },
      "execution_count": 8,
      "outputs": [
        {
          "output_type": "execute_result",
          "data": {
            "text/plain": [
              "array(['1: PDO', '4: Fatal', '3: SI', '2: MI'], dtype=object)"
            ]
          },
          "metadata": {},
          "execution_count": 8
        }
      ]
    },
    {
      "cell_type": "code",
      "source": [
        "# encoding string values into numeric values\n",
        "CSEF_Severity_dict = {'4: Fatal': 0, '1: PDO': 1, '2: MI':2, '3: SI':3,}\n",
        "crash_df_filtered_1 = crash_df_filtered_1.replace({'CSEF Severity': CSEF_Severity_dict})"
      ],
      "metadata": {
        "id": "CCw6bARzBL9U"
      },
      "execution_count": 9,
      "outputs": []
    },
    {
      "cell_type": "code",
      "source": [
        "#Converting Dtype of 'Time' variable from Object to Datetime\n",
        "crash_df_filtered_1 ['Time'] = pd.to_datetime(crash_df_filtered_1['Time'])"
      ],
      "metadata": {
        "id": "OB_JuVNWBMAM"
      },
      "execution_count": 10,
      "outputs": []
    },
    {
      "cell_type": "code",
      "source": [
        "#Changing the format of the 'Time' column from 12Hrs to 24Hrs and assigning it to a new Column 'date_formated'\n",
        "crash_df_filtered_1['date_formated']=crash_df_filtered_1['Time'].dt.strftime('%H').astype('str')"
      ],
      "metadata": {
        "id": "YoipIbWrBMFS"
      },
      "execution_count": 11,
      "outputs": []
    },
    {
      "cell_type": "code",
      "source": [
        "#Finding the number of unique values in the converted 'date_formated' column\n",
        "crash_df_filtered_1 ['date_formated'].unique()"
      ],
      "metadata": {
        "colab": {
          "base_uri": "https://localhost:8080/"
        },
        "id": "TEhA_4yBBMIl",
        "outputId": "682ad79c-d05a-4604-c7f2-64510cb82d13"
      },
      "execution_count": 12,
      "outputs": [
        {
          "output_type": "execute_result",
          "data": {
            "text/plain": [
              "array(['12', '11', '01', '03', '05', '07', '13', '15', '14', '06', '17',\n",
              "       '22', '10', '18', '16', '19', '21', '20', '23', '00', '09', '08',\n",
              "       '02', '04'], dtype=object)"
            ]
          },
          "metadata": {},
          "execution_count": 12
        }
      ]
    },
    {
      "cell_type": "code",
      "source": [
        "#Dropping the 'Time' column fromthe Dataframe\n",
        "crash_df_filtered_1=crash_df_filtered_1.drop('Time', axis=1)"
      ],
      "metadata": {
        "id": "y97TuIQ_BMLJ"
      },
      "execution_count": 13,
      "outputs": []
    },
    {
      "cell_type": "code",
      "source": [
        "#One-Hot Encoding the Column Variables\n",
        "ohe_columns = ['Stats Area', 'Month', 'Day', 'date_formated', 'Position Type',\n",
        "       'Horizontal Align', 'Vertical Align', 'Other Feat', 'Road Surface',\n",
        "       'Moisture Cond', 'Weather Cond', 'DayNight', 'Crash Type',\n",
        "       'Entity Code','CSEF Severity', 'Traffic Ctrls', 'DUI Involved',\n",
        "       'Drugs Involved']      \n",
        "ohe_df = pd.get_dummies(crash_df_filtered_1, columns=ohe_columns)"
      ],
      "metadata": {
        "id": "T9-GHvo7BMNy"
      },
      "execution_count": 14,
      "outputs": []
    },
    {
      "cell_type": "code",
      "source": [
        "#Number of columns after One-Hot Encoding\n",
        "len(ohe_df.columns)"
      ],
      "metadata": {
        "colab": {
          "base_uri": "https://localhost:8080/"
        },
        "id": "GIL1eDIkBMQN",
        "outputId": "a6946312-56f7-4d13-dd92-9b9eff8aa97b"
      },
      "execution_count": 15,
      "outputs": [
        {
          "output_type": "execute_result",
          "data": {
            "text/plain": [
              "128"
            ]
          },
          "metadata": {},
          "execution_count": 15
        }
      ]
    },
    {
      "cell_type": "code",
      "source": [
        "#One-Hot Encoded Columns\n",
        "ohe_df.columns"
      ],
      "metadata": {
        "colab": {
          "base_uri": "https://localhost:8080/"
        },
        "id": "mJhwx80UBMS9",
        "outputId": "05329795-b8a7-4c8e-ee17-eda21b9347ea"
      },
      "execution_count": 16,
      "outputs": [
        {
          "output_type": "execute_result",
          "data": {
            "text/plain": [
              "Index(['Area Speed', 'Unit Resp', 'Stats Area_1 City',\n",
              "       'Stats Area_2 Metropolitan', 'Stats Area_3 Country', 'Month_April',\n",
              "       'Month_August', 'Month_December', 'Month_February', 'Month_January',\n",
              "       ...\n",
              "       'Traffic Ctrls_Rail Xing - Flashing',\n",
              "       'Traffic Ctrls_Rail Xing - No Control',\n",
              "       'Traffic Ctrls_Rail Xing-Traffic Signals', 'Traffic Ctrls_Roundabout',\n",
              "       'Traffic Ctrls_Stop Sign', 'Traffic Ctrls_Traffic Signals',\n",
              "       'DUI Involved_0', 'DUI Involved_Y', 'Drugs Involved_0',\n",
              "       'Drugs Involved_Y'],\n",
              "      dtype='object', length=128)"
            ]
          },
          "metadata": {},
          "execution_count": 16
        }
      ]
    },
    {
      "cell_type": "code",
      "source": [
        "# Split our preprocessed data into our features and target arrays\n",
        "y = ohe_df[[col for col in ohe_df if col.startswith(\"CSEF Severity_\")]].values\n",
        "\n",
        "# drop 'Total Fats', 'Total SI', 'Total MI'\n",
        "X = ohe_df.drop([col for col in ohe_df if col.startswith(\"CSEF Severity_\")], axis=1).values\n",
        "X"
      ],
      "metadata": {
        "colab": {
          "base_uri": "https://localhost:8080/"
        },
        "id": "snoIQWmxBMVo",
        "outputId": "044cf1db-5128-4bc0-f79e-46f1a580fb6a"
      },
      "execution_count": 17,
      "outputs": [
        {
          "output_type": "execute_result",
          "data": {
            "text/plain": [
              "array([[90,  2,  0, ...,  0,  1,  0],\n",
              "       [10,  2,  0, ...,  0,  1,  0],\n",
              "       [60,  1,  0, ...,  0,  1,  0],\n",
              "       ...,\n",
              "       [80,  1,  0, ...,  0,  1,  0],\n",
              "       [60,  2,  0, ...,  0,  1,  0],\n",
              "       [60,  2,  0, ...,  0,  1,  0]])"
            ]
          },
          "metadata": {},
          "execution_count": 17
        }
      ]
    },
    {
      "cell_type": "code",
      "source": [
        "# Split the preprocessed data into a training and testing dataset\n",
        "X_train, X_test, y_train, y_test = train_test_split(X,y,random_state = 42)"
      ],
      "metadata": {
        "id": "iBU3bBISBMan"
      },
      "execution_count": 18,
      "outputs": []
    },
    {
      "cell_type": "code",
      "source": [
        "# Create a StandardScaler instances\n",
        "scaler = StandardScaler()\n",
        "\n",
        "# Fit the StandardScaler\n",
        "X_scaler = scaler.fit(X_train)\n",
        "\n",
        "# Scale the data\n",
        "X_train_scaled = X_scaler.transform(X_train)\n",
        "X_test_scaled = X_scaler.transform(X_test)"
      ],
      "metadata": {
        "id": "MKg3AHy1BMdm"
      },
      "execution_count": 19,
      "outputs": []
    },
    {
      "cell_type": "code",
      "source": [
        "\n",
        "# Define the model - deep neural net, i.e., the number of input features and hidden nodes for each layer.\n",
        "number_input_features = len( X_train_scaled[0])\n",
        "hidden_nodes_layer1=8\n",
        "hidden_nodes_layer2=16\n",
        "hidden_nodes_layer3=16\n",
        "nn = tf.keras.models.Sequential()\n",
        "\n",
        "\n",
        "# First hidden layer\n",
        "nn.add(tf.keras.layers.Dense(units=hidden_nodes_layer1, input_dim=number_input_features, activation='relu'))\n",
        "\n",
        "# Second hidden layer\n",
        "nn.add(tf.keras.layers.Dense(units=hidden_nodes_layer2, activation='relu'))\n",
        "\n",
        "# Output layer\n",
        "nn.add(tf.keras.layers.Dense(4, activation='softmax'))\n",
        "\n",
        "# Check the structure of the model\n",
        "nn.summary()\n",
        "     "
      ],
      "metadata": {
        "colab": {
          "base_uri": "https://localhost:8080/"
        },
        "id": "iIaghowxBMfw",
        "outputId": "26ac9d5b-924f-4856-cee2-659f22f73323"
      },
      "execution_count": 20,
      "outputs": [
        {
          "output_type": "stream",
          "name": "stdout",
          "text": [
            "Model: \"sequential\"\n",
            "_________________________________________________________________\n",
            " Layer (type)                Output Shape              Param #   \n",
            "=================================================================\n",
            " dense (Dense)               (None, 8)                 1000      \n",
            "                                                                 \n",
            " dense_1 (Dense)             (None, 16)                144       \n",
            "                                                                 \n",
            " dense_2 (Dense)             (None, 4)                 68        \n",
            "                                                                 \n",
            "=================================================================\n",
            "Total params: 1,212\n",
            "Trainable params: 1,212\n",
            "Non-trainable params: 0\n",
            "_________________________________________________________________\n"
          ]
        }
      ]
    },
    {
      "cell_type": "code",
      "source": [
        "# Compile the model\n",
        "nn.compile(loss = tf.keras.losses.CategoricalCrossentropy(), optimizer = tf.keras.optimizers.Adam(learning_rate=0.001), metrics=['accuracy'])\n",
        "\n",
        "# Train the model\n",
        "fit_model = nn.fit(X_train_scaled,y_train,validation_data=(X_test_scaled,y_test), epochs=10)"
      ],
      "metadata": {
        "colab": {
          "base_uri": "https://localhost:8080/"
        },
        "id": "4xD6xgaRBMip",
        "outputId": "69925eab-f050-4ce6-e43e-0aa054c92e60"
      },
      "execution_count": 21,
      "outputs": [
        {
          "output_type": "stream",
          "name": "stdout",
          "text": [
            "Epoch 1/10\n",
            "309/309 [==============================] - 2s 3ms/step - loss: 0.9973 - accuracy: 0.6063 - val_loss: 0.8117 - val_accuracy: 0.6667\n",
            "Epoch 2/10\n",
            "309/309 [==============================] - 1s 3ms/step - loss: 0.7896 - accuracy: 0.6706 - val_loss: 0.7813 - val_accuracy: 0.6691\n",
            "Epoch 3/10\n",
            "309/309 [==============================] - 1s 2ms/step - loss: 0.7649 - accuracy: 0.6765 - val_loss: 0.7728 - val_accuracy: 0.6724\n",
            "Epoch 4/10\n",
            "309/309 [==============================] - 1s 2ms/step - loss: 0.7526 - accuracy: 0.6789 - val_loss: 0.7704 - val_accuracy: 0.6743\n",
            "Epoch 5/10\n",
            "309/309 [==============================] - 1s 2ms/step - loss: 0.7452 - accuracy: 0.6796 - val_loss: 0.7731 - val_accuracy: 0.6727\n",
            "Epoch 6/10\n",
            "309/309 [==============================] - 1s 2ms/step - loss: 0.7398 - accuracy: 0.6789 - val_loss: 0.7759 - val_accuracy: 0.6727\n",
            "Epoch 7/10\n",
            "309/309 [==============================] - 1s 2ms/step - loss: 0.7368 - accuracy: 0.6797 - val_loss: 0.7743 - val_accuracy: 0.6746\n",
            "Epoch 8/10\n",
            "309/309 [==============================] - 1s 2ms/step - loss: 0.7329 - accuracy: 0.6815 - val_loss: 0.7726 - val_accuracy: 0.6688\n",
            "Epoch 9/10\n",
            "309/309 [==============================] - 1s 2ms/step - loss: 0.7311 - accuracy: 0.6816 - val_loss: 0.7745 - val_accuracy: 0.6685\n",
            "Epoch 10/10\n",
            "309/309 [==============================] - 1s 2ms/step - loss: 0.7278 - accuracy: 0.6814 - val_loss: 0.7744 - val_accuracy: 0.6648\n"
          ]
        }
      ]
    },
    {
      "cell_type": "code",
      "source": [
        "# Evaluate the model using the test data\n",
        "model_loss, model_accuracy = nn.evaluate(X_test_scaled,y_test,verbose=2)\n",
        "print(f\"Loss: {model_loss}, Accuracy: {model_accuracy}\")"
      ],
      "metadata": {
        "colab": {
          "base_uri": "https://localhost:8080/"
        },
        "id": "-uFI3RjpBMli",
        "outputId": "aed0bff8-4922-479c-d065-17a6d24f4ede"
      },
      "execution_count": 22,
      "outputs": [
        {
          "output_type": "stream",
          "name": "stdout",
          "text": [
            "103/103 - 0s - loss: 0.7744 - accuracy: 0.6648 - 134ms/epoch - 1ms/step\n",
            "Loss: 0.7744494080543518, Accuracy: 0.6648418307304382\n"
          ]
        }
      ]
    },
    {
      "cell_type": "code",
      "source": [],
      "metadata": {
        "id": "7vTy6yapDfKD"
      },
      "execution_count": null,
      "outputs": []
    },
    {
      "cell_type": "code",
      "source": [],
      "metadata": {
        "id": "dS6Yqey0DfPs"
      },
      "execution_count": null,
      "outputs": []
    },
    {
      "cell_type": "code",
      "source": [],
      "metadata": {
        "id": "tqRXLcnuDfSY"
      },
      "execution_count": null,
      "outputs": []
    },
    {
      "cell_type": "code",
      "source": [],
      "metadata": {
        "id": "B05TK7LeDfU_"
      },
      "execution_count": null,
      "outputs": []
    },
    {
      "cell_type": "code",
      "source": [],
      "metadata": {
        "id": "DUaHYJw_DfXb"
      },
      "execution_count": null,
      "outputs": []
    },
    {
      "cell_type": "code",
      "source": [],
      "metadata": {
        "id": "FnK278ZfDfaD"
      },
      "execution_count": null,
      "outputs": []
    },
    {
      "cell_type": "code",
      "source": [],
      "metadata": {
        "id": "lRi28NAVDfcU"
      },
      "execution_count": null,
      "outputs": []
    }
  ]
}